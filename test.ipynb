{
 "cells": [
  {
   "cell_type": "code",
   "execution_count": 1,
   "id": "3ff2701f-fa77-435c-b17f-fb9b681979d3",
   "metadata": {},
   "outputs": [
    {
     "name": "stdin",
     "output_type": "stream",
     "text": [
      "Isikan Usia Anda 12\n"
     ]
    },
    {
     "name": "stdout",
     "output_type": "stream",
     "text": [
      "Usia Anda masuk dalam kategori : Anak Anak\n"
     ]
    }
   ],
   "source": [
    "usia = int(input(\"Isikan Usia Anda\"))\n",
    "\n",
    "if 0 <=  usia <= 12:\n",
    "    kategori = \"Anak Anak\"\n",
    "elif 13 <= usia <= 17:\n",
    "    kategori = \"Remaja\"\n",
    "elif 18 <= usia <= 59:\n",
    "    kategori = \"Dewasa\"\n",
    "elif usia >= 60:\n",
    "    kategori = \"Lansia\"\n",
    "else:\n",
    "    kategori = \"Usia Tidak Valid\"\n",
    "\n",
    "print(f\"Usia Anda masuk dalam kategori :\",kategori)"
   ]
  },
  {
   "cell_type": "code",
   "execution_count": null,
   "id": "9481331f-2430-43b1-94b5-ae6c202d8305",
   "metadata": {},
   "outputs": [],
   "source": []
  }
 ],
 "metadata": {
  "kernelspec": {
   "display_name": "Python [conda env:base] *",
   "language": "python",
   "name": "conda-base-py"
  },
  "language_info": {
   "codemirror_mode": {
    "name": "ipython",
    "version": 3
   },
   "file_extension": ".py",
   "mimetype": "text/x-python",
   "name": "python",
   "nbconvert_exporter": "python",
   "pygments_lexer": "ipython3",
   "version": "3.12.7"
  }
 },
 "nbformat": 4,
 "nbformat_minor": 5
}
