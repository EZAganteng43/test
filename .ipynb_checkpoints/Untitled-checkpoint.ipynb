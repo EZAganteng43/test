{
 "cells": [
  {
   "cell_type": "code",
   "execution_count": 2,
   "id": "1710bdfa-cf77-43a6-a461-9a063cf8c074",
   "metadata": {},
   "outputs": [
    {
     "name": "stdin",
     "output_type": "stream",
     "text": [
      "Isikan Umur Tiket 1: 12\n",
      "Isikan Umur Tiket 2:  16\n",
      "Isikan Umur Tiket 3:  59\n"
     ]
    },
    {
     "name": "stdout",
     "output_type": "stream",
     "text": [
      "Total Harga yang harus dibayar:  50000\n"
     ]
    }
   ],
   "source": [
    "tiket1 = int(input(\"Isikan Umur Tiket 1:\"))\n",
    "tiket2 = int(input(\"Isikan Umur Tiket 2: \"))\n",
    "tiket3 = int(input(\"Isikan Umur Tiket 3: \"))\n",
    "\n",
    "def hargaTiket (usia):\n",
    "    if 0 <= usia <= 12:\n",
    "        return 10000\n",
    "    elif 13 <= usia <= 17:\n",
    "        return 15000\n",
    "    elif 18 <= usia <= 59:\n",
    "        return 25000\n",
    "    elif usia >= 60:\n",
    "        return 0\n",
    "    else:\n",
    "        \"Usia Tidak Valid\"\n",
    "\n",
    "totalHarga = (hargaTiket(tiket1) + hargaTiket(tiket2) + hargaTiket(tiket3))\n",
    "\n",
    "print(f\"Total Harga yang harus dibayar: \",totalHarga)"
   ]
  },
  {
   "cell_type": "code",
   "execution_count": null,
   "id": "80180f8c-9d6d-49be-8e8f-1f4a399866aa",
   "metadata": {},
   "outputs": [],
   "source": []
  }
 ],
 "metadata": {
  "kernelspec": {
   "display_name": "Python [conda env:base] *",
   "language": "python",
   "name": "conda-base-py"
  },
  "language_info": {
   "codemirror_mode": {
    "name": "ipython",
    "version": 3
   },
   "file_extension": ".py",
   "mimetype": "text/x-python",
   "name": "python",
   "nbconvert_exporter": "python",
   "pygments_lexer": "ipython3",
   "version": "3.12.7"
  }
 },
 "nbformat": 4,
 "nbformat_minor": 5
}
